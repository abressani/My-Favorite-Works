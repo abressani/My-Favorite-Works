{
 "cells": [
  {
   "cell_type": "code",
   "execution_count": null,
   "metadata": {},
   "outputs": [],
   "source": [
    "# Import Modules\n",
    "import numpy as np\n",
    "from astropy import units as u\n",
    "from astropy import constants as const\n",
    "\n",
    "import matplotlib\n",
    "import matplotlib.pyplot as plt\n",
    "from matplotlib.colors import LogNorm\n",
    "\n",
    "from ReadFile import Read\n",
    "from CenterOfMass2 import CenterOfMass\n",
    "\n",
    "# Critical density of the universe in 1e10 M_Sun and kpc\n",
    "pcrit = 1.277e-8 "
   ]
  },
  {
   "cell_type": "markdown",
   "metadata": {},
   "source": [
    "# Plan for Research Project:\n",
    "\n",
    "# Part 1: Find the halo denisty profile of the merger remnant.\n",
    "Note: Using snap 801 for MW and M31\n",
    "\n",
    "Steps:\n",
    "1) Extract halo information of MW and M31 and add them together\n",
    "2) Sum mass enclosed in each shell\n",
    "3) Divide mass by spherical volume of the shell\n",
    "4) Store the density value in an array\n",
    "5) Plot that density as a function of radius of the shell"
   ]
  },
  {
   "cell_type": "code",
   "execution_count": 2,
   "metadata": {},
   "outputs": [],
   "source": [
    "def find_nearest(array, value):\n",
    "    ''' \n",
    "    Find the nearest value in an array to an input value (from stack overflow)\n",
    "    Inputs:\n",
    "        array: array\n",
    "            Array of values\n",
    "        value: float\n",
    "            Float to match nearest value in  array with\n",
    "    Outputs:\n",
    "        array[idx]: float\n",
    "            Element in array closest to input value\n",
    "    '''\n",
    "    array = np.asarray(array)\n",
    "    idx = (np.abs(array - value)).argmin()\n",
    "    return array[idx]"
   ]
  },
  {
   "cell_type": "code",
   "execution_count": 3,
   "metadata": {},
   "outputs": [],
   "source": [
    "# Get file info\n",
    "filename = \"Merger_801.txt\"\n",
    "Remnant_t, Remnant_p, Remnant_d = Read(filename)"
   ]
  },
  {
   "cell_type": "code",
   "execution_count": 4,
   "metadata": {},
   "outputs": [],
   "source": [
    "# get COM of remnant\n",
    "Remnant = CenterOfMass(filename, 1)\n",
    "\n",
    "# Error tolerance\n",
    "delta = 0.01\n",
    "# Decrease volume factor\n",
    "voldec = 2.0\n",
    "\n",
    "# This is the center of mass of the remnant\n",
    "Remnant_COMp = Remnant.COM_P(delta, voldec)"
   ]
  },
  {
   "cell_type": "code",
   "execution_count": 5,
   "metadata": {},
   "outputs": [],
   "source": [
    "def Integrator(rmax, dr):\n",
    "    '''\n",
    "    Make spheres and sum masses inside\n",
    "    Inputs:\n",
    "        rmax: float\n",
    "            Maximum radius to be considered in kpc\n",
    "        dr: float\n",
    "            Added radius for each shell\n",
    "    Outputs:        radii: numpy array\n",
    "            Radius of sphere\n",
    "        masses: numpy array\n",
    "            Total mass in each sphere\n",
    "    '''\n",
    "    # Determine particle distance from COM\n",
    "    xnew = abs(Remnant_COMp[0].value - Remnant_d['x'])\n",
    "    ynew = abs(Remnant_COMp[1].value - Remnant_d['y'])\n",
    "    znew = abs(Remnant_COMp[2].value - Remnant_d['z'])\n",
    "\n",
    "    # Find magnitude of particle distance\n",
    "    rnew = np.sqrt(xnew**2 + ynew**2 + znew**2)\n",
    "    \n",
    "    # Initial radius\n",
    "    r0 = 0.1\n",
    "\n",
    "    # Initialize radius and mass array\n",
    "    radii = np.arange(r0, rmax, dr)\n",
    "    masses = np.zeros(len(radii))\n",
    "\n",
    "    for radius_index in range(len(radii)):\n",
    "        # Create index where particles are within sphere\n",
    "        index = np.where(rnew < radii[radius_index])\n",
    "\n",
    "        # Take masses of the particles in sphere\n",
    "        masses[radius_index] = np.sum(Remnant_d['m'][index])\n",
    "        '''\n",
    "        # Fix if nan is returned\n",
    "        if masses[radius_index] == 'nan':\n",
    "            masses[radius_index] == 0\n",
    "        '''\n",
    "    return radii, masses"
   ]
  },
  {
   "cell_type": "code",
   "execution_count": 6,
   "metadata": {},
   "outputs": [],
   "source": [
    "def density(rmax, dr):\n",
    "    ''' \n",
    "    Convert mass values into spherical density values \n",
    "    Inputs:\n",
    "        rmax: float\n",
    "            Maximum radius to be considered\n",
    "        dr: float\n",
    "            Radius step size\n",
    "    Outputs:\n",
    "        radii: numpy array\n",
    "            Array of radii\n",
    "        densities: numpy array\n",
    "            Array of densities at radius values\n",
    "    '''\n",
    "    # Integrate masses with respect to radius\n",
    "    radii, masses = Integrator(rmax, dr)\n",
    "\n",
    "    # Convert radii to sphere volume\n",
    "    sphere_vol = (4/3) * np.pi * radii**3\n",
    "\n",
    "    # Convert masses and volumes to densities\n",
    "    densities = (masses)/sphere_vol\n",
    "\n",
    "    return radii, densities"
   ]
  },
  {
   "cell_type": "code",
   "execution_count": 7,
   "metadata": {},
   "outputs": [],
   "source": [
    "# Changed .001 to .1 to save time \n",
    "Halo_density = density(280, .1)"
   ]
  },
  {
   "cell_type": "code",
   "execution_count": 8,
   "metadata": {},
   "outputs": [
    {
     "name": "stdout",
     "output_type": "stream",
     "text": [
      "[278.7]\n"
     ]
    }
   ],
   "source": [
    "# Define 200 times the critical density\n",
    "rho200 = 200*pcrit\n",
    "# Find closest density in halo array to 200rhocrit\n",
    "rho200_index = find_nearest(Halo_density[1], rho200)\n",
    "# Find index of corresponding array\n",
    "R200_index = np.where(rho200_index == Halo_density[1])\n",
    "# Find R200 radius value\n",
    "R200 = Halo_density[0][R200_index]\n",
    "print(R200) # R200\n"
   ]
  },
  {
   "cell_type": "code",
   "execution_count": 9,
   "metadata": {},
   "outputs": [
    {
     "data": {
      "text/plain": [
       "<matplotlib.legend.Legend at 0x121fa39d0>"
      ]
     },
     "execution_count": 9,
     "metadata": {},
     "output_type": "execute_result"
    },
    {
     "data": {
      "image/png": "[encoded data removed]",
      "text/plain": [
       "<Figure size 640x480 with 1 Axes>"
      ]
     },
     "metadata": {},
     "output_type": "display_data"
    }
   ],
   "source": [
    "# Initialize Plots\n",
    "fig, ax = plt.subplots()\n",
    "# Plotting particle masses at given radius\n",
    "ax.plot(Halo_density[0], Halo_density[1], 'b', linewidth = 2, label = 'Dark Matter')\n",
    "\n",
    "# 200rhocrit line\n",
    "ax.axhline(y=200*pcrit, color='r', linestyle='--', label='200rho')\n",
    "# R200 line\n",
    "ax.axvline(x=R200, color='purple', linestyle='--', label='R200')\n",
    "\n",
    "# Formatting\n",
    "ax.set_yscale('log')\n",
    "ax.grid()\n",
    "ax.set(title='Merger Remnant Density Profile', xlabel='Radius (kpc)', ylabel='Density (Msun*1e10/kpc^3)')\n",
    "ax.legend(loc='best')"
   ]
  }
 ],
 "metadata": {
  "kernelspec": {
   "display_name": "base",
   "language": "python",
   "name": "python3"
  },
  "language_info": {
   "codemirror_mode": {
    "name": "ipython",
    "version": 3
   },
   "file_extension": ".py",
   "mimetype": "text/x-python",
   "name": "python",
   "nbconvert_exporter": "python",
   "pygments_lexer": "ipython3",
   "version": "3.11.11"
  }
 },
 "nbformat": 4,
 "nbformat_minor": 2
}
